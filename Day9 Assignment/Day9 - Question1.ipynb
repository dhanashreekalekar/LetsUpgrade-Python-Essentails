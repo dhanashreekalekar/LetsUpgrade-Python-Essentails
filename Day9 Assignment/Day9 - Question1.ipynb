{
 "cells": [
  {
   "cell_type": "code",
   "execution_count": 30,
   "metadata": {},
   "outputs": [
    {
     "name": "stdout",
     "output_type": "stream",
     "text": [
      "Overwriting primenumber.py\n"
     ]
    }
   ],
   "source": [
    "#Unit testing using pylint\n",
    "\n",
    "\n",
    "%%writefile primenumber.py\n",
    "'''\n",
    "creating a file for primenumber python code\n",
    "'''\n",
    "def is_prime(given_no):\n",
    "    '''\n",
    "    function to check number prime or not\n",
    "    '''\n",
    "    if given_no > 1:\n",
    "        for _ in range(2, given_no):\n",
    "            if (given_no % _) == 0:\n",
    "                final_result = \"Not Prime\"\n",
    "                break\n",
    "        else:\n",
    "            final_result = \"Prime\"\n",
    "    else:\n",
    "        final_result = \"Not Prime\"\n",
    "    return final_result"
   ]
  },
  {
   "cell_type": "code",
   "execution_count": 31,
   "metadata": {},
   "outputs": [
    {
     "name": "stdout",
     "output_type": "stream",
     "text": [
      "\n",
      "-------------------------------------------------------------------\n",
      "\n",
      "Your code has been rated at 10.00/10 (previous run: 8.89/10, +1.11)\n",
      "\n",
      "\n",
      "\n"
     ]
    }
   ],
   "source": [
    "! pylint \"primenumber.py\""
   ]
  },
  {
   "cell_type": "code",
   "execution_count": null,
   "metadata": {},
   "outputs": [],
   "source": []
  },
  {
   "cell_type": "code",
   "execution_count": 32,
   "metadata": {},
   "outputs": [],
   "source": [
    "#Unit Testing using Unittest Library"
   ]
  },
  {
   "cell_type": "code",
   "execution_count": 40,
   "metadata": {},
   "outputs": [
    {
     "name": "stdout",
     "output_type": "stream",
     "text": [
      "Overwriting primeUnitTest.py\n"
     ]
    }
   ],
   "source": [
    "%%writefile primeUnitTest.py\n",
    "\n",
    "import unittest\n",
    "import prime\n",
    "\n",
    "class testPrime(unittest.TestCase):\n",
    "    def testSinglePrime(self):\n",
    "        a = 3\n",
    "        result = prime.is_prime(a)\n",
    "        self.assertEquals(result, \"Prime\")\n",
    "        \n",
    "    def testingDoublePrime(self):\n",
    "        b = 11 \n",
    "        result = prime.is_prime(b)\n",
    "        self.assertEquals(result, \"Prime\")\n",
    "\n",
    "if __name__ == \"__main__\":\n",
    "    unittest.main()"
   ]
  },
  {
   "cell_type": "code",
   "execution_count": 41,
   "metadata": {},
   "outputs": [
    {
     "name": "stderr",
     "output_type": "stream",
     "text": [
      "primeUnitTest.py:9: DeprecationWarning: Please use assertEqual instead.\n",
      "  self.assertEquals(result, \"Prime\")\n",
      "..\n",
      "----------------------------------------------------------------------\n",
      "Ran 2 tests in 0.001s\n",
      "\n",
      "OK\n"
     ]
    }
   ],
   "source": [
    "! python \"primeUnitTest.py\""
   ]
  }
 ],
 "metadata": {
  "kernelspec": {
   "display_name": "Python 3",
   "language": "python",
   "name": "python3"
  },
  "language_info": {
   "codemirror_mode": {
    "name": "ipython",
    "version": 3
   },
   "file_extension": ".py",
   "mimetype": "text/x-python",
   "name": "python",
   "nbconvert_exporter": "python",
   "pygments_lexer": "ipython3",
   "version": "3.7.4"
  }
 },
 "nbformat": 4,
 "nbformat_minor": 2
}
