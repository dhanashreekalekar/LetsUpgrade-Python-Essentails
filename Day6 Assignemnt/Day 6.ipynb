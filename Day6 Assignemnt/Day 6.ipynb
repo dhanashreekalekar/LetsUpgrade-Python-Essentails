{
 "cells": [
  {
   "cell_type": "code",
   "execution_count": 23,
   "metadata": {},
   "outputs": [
    {
     "name": "stdout",
     "output_type": "stream",
     "text": [
      "\n",
      "Account Holder Name : Dhanashree\n",
      "\n",
      "Initial Account Balance : 4000\n",
      "\n",
      "Enter amount to be deposited : 300\n",
      "Balance after amount deposited : 4300\n",
      "\n",
      "Enter amount to be Withdrawn : 1000\n",
      "Balance after amount withdrawn : 3300\n"
     ]
    }
   ],
   "source": [
    "'''\n",
    "Question 1\n",
    "\n",
    "For this challenge,create a bank account class that has two attributes\n",
    "*ownerName\n",
    "*Balance\n",
    "And two methods\n",
    "*deposit\n",
    "*withdraw\n",
    "As an added requirement,withdrawals may not exceed the available balance.\n",
    "Instantiate your class,make several deposits and withdrawals,and test to make sure the account\n",
    "cant be overdrawn.\n",
    "'''\n",
    "\n",
    "class BankAccount: \n",
    "\n",
    "    def __init__(self): \n",
    "        self.ownerName = \"Dhanashree\"\n",
    "        self.Balance = 4000\n",
    "        \n",
    "    def deposit(self): \n",
    "        amt=int(input(\"\\nEnter amount to be deposited : \")) \n",
    "        self.Balance += amt \n",
    "        print(\"Balance after amount deposited :\",self.Balance) \n",
    "  \n",
    "    def withdraw(self): \n",
    "        amt = int(input(\"\\nEnter amount to be Withdrawn : \")) \n",
    "        if self.Balance >= amt: \n",
    "            self.Balance -= amt \n",
    "            print(\"Balance after amount withdrawn :\", self.Balance) \n",
    "        else: \n",
    "            print(\"\\nInsufficient Balance in Account\") \n",
    "\n",
    "obj = BankAccount()\n",
    "print(\"\\nAccount Holder Name :\",obj.ownerName)\n",
    "print(\"\\nInitial Account Balance :\",obj.Balance)\n",
    "obj.deposit();\n",
    "obj.withdraw();"
   ]
  },
  {
   "cell_type": "code",
   "execution_count": 20,
   "metadata": {},
   "outputs": [
    {
     "name": "stdout",
     "output_type": "stream",
     "text": [
      "Enter radius : 9\n",
      "Enter height : 15\n",
      "Volume =  1272.35\n",
      "Surface Area =  749.07\n"
     ]
    }
   ],
   "source": [
    "'''\n",
    "Question 2\n",
    "For this challenge,create a cone class that has two attributes:\n",
    "*R=Radius\n",
    "*h=Height\n",
    "And two methods:\n",
    "*Volume = Π * r2 = (h/3)\n",
    "*Surface area : base : Π * r2 , side : Π * r * √(r2 + h2)\n",
    "Make only one class with functions,as in where required import Math.\n",
    "'''\n",
    "\n",
    "import math\n",
    "\n",
    "class Cone:\n",
    "    def __init__(self,r,h):\n",
    "        self.r = r\n",
    "        self.h = h\n",
    "    \n",
    "    def volume(self):\n",
    "        volume = (math.pi * (self.r**2) * (self.h/3))\n",
    "        print(\"Volume = \",round(volume,2))\n",
    "        \n",
    "    def surfaceArea(self):\n",
    "        surfacearea = math.pi*self.r*(self.r+math.sqrt((self.h**2)+(self.r**2)))\n",
    "        print(\"Surface Area = \",round(surfacearea,2))\n",
    "    \n",
    "radius = float(input(\"Enter radius : \"))\n",
    "height = float(input(\"Enter height : \"))        \n",
    "\n",
    "obj = Cone(radius,height)\n",
    "\n",
    "obj.volume()\n",
    "obj.surfaceArea()"
   ]
  }
 ],
 "metadata": {
  "kernelspec": {
   "display_name": "Python 3",
   "language": "python",
   "name": "python3"
  },
  "language_info": {
   "codemirror_mode": {
    "name": "ipython",
    "version": 3
   },
   "file_extension": ".py",
   "mimetype": "text/x-python",
   "name": "python",
   "nbconvert_exporter": "python",
   "pygments_lexer": "ipython3",
   "version": "3.7.4"
  }
 },
 "nbformat": 4,
 "nbformat_minor": 2
}
